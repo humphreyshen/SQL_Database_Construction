{
 "cells": [
  {
   "cell_type": "code",
   "execution_count": 2,
   "id": "3922e1ac",
   "metadata": {},
   "outputs": [
    {
     "name": "stderr",
     "output_type": "stream",
     "text": [
      "/Users/humphreyshen/opt/anaconda3/lib/python3.8/site-packages/IPython/core/interactiveshell.py:3441: DtypeWarning: Columns (5,7,14) have mixed types.Specify dtype option on import or set low_memory=False.\n",
      "  exec(code_obj, self.user_global_ns, self.user_ns)\n"
     ]
    },
    {
     "data": {
      "text/plain": [
       "id                           111431\n",
       "zh_name                          薛綸\n",
       "en_name                  HSUEI, LUN\n",
       "gender                          NaN\n",
       "birthday                 1994/11/27\n",
       "age                             NaN\n",
       "email        mewhsuei1127@gmail.com\n",
       "zip_code                      300.0\n",
       "region                           TW\n",
       "county                          新竹市\n",
       "district                        NaN\n",
       "address              新竹市中正路４８５巷９號５樓\n",
       "cell                      928359264\n",
       "tele                            NaN\n",
       "id_num                          NaN\n",
       "last_edit                       NaN\n",
       "bye                               1\n",
       "note                         NULL\\r\n",
       "Name: 111415, dtype: object"
      ]
     },
     "execution_count": 2,
     "metadata": {},
     "output_type": "execute_result"
    }
   ],
   "source": [
    "#中文字元:全形空格消除\n",
    "#u3000=全形空格\n",
    "\n",
    "import pandas as pd\n",
    "import numpy as np\n",
    "\n",
    "personal_original=pd.read_csv(\"/Users/humphreyshen/Desktop/2021 Database Project/總表下載數據/df_orginal_withoutblank.csv\")\n",
    "personal_original[\"zh_name\"] = personal_original[\"zh_name\"].str.replace(u'\\u3000',u'')\n",
    "personal_original"
   ]
  }
 ],
 "metadata": {
  "kernelspec": {
   "display_name": "Python 3 (ipykernel)",
   "language": "python",
   "name": "python3"
  },
  "language_info": {
   "codemirror_mode": {
    "name": "ipython",
    "version": 3
   },
   "file_extension": ".py",
   "mimetype": "text/x-python",
   "name": "python",
   "nbconvert_exporter": "python",
   "pygments_lexer": "ipython3",
   "version": "3.8.5"
  }
 },
 "nbformat": 4,
 "nbformat_minor": 5
}
